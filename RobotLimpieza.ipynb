{
 "cells": [
  {
   "cell_type": "markdown",
   "metadata": {},
   "source": [
    "Iván Ricardo Paredes Avilez\n",
    "A01705083\n",
    "\n",
    "08/11/2023\n",
    "\n",
    "M1.Actividad\n",
    "\n",
    "Implementación de Sistemas Multiagentes\n",
    "\n",
    "Robot de Limpieza"
   ]
  },
  {
   "cell_type": "code",
   "execution_count": null,
   "metadata": {},
   "outputs": [],
   "source": [
    "# Se importan las clases \"Agent\" y \"Model\", requeridas para manejar los agentes.\n",
    "# Además, cada modelo puede tener múltiples agentes\n",
    "from mesa import Agent, Model \n",
    "\n",
    "# \"SingleGrid\" nos permite tener solo un agente por celda\n",
    "from mesa.space import SingleGrid\n",
    "\n",
    "# Para simular que todos los agentes se activen al mismo tiempo, importamos \"RandomActivation\"\n",
    "from mesa.time import RandomActivation\n",
    "\n",
    "# Con \"DataCollector\" podemos obtener información por cada paso en la simulación\n",
    "from mesa.datacollection import DataCollector\n",
    "\n",
    "# Para obtener un mejor manejo de valores numéricos importamos los siguientes paquetes:\n",
    "import numpy as np\n",
    "import pandas as pd\n",
    "\n",
    "# Paquetes utilizados para medir el tiempo de ejecución:\n",
    "import time\n",
    "import datetime"
   ]
  }
 ],
 "metadata": {
  "language_info": {
   "name": "python"
  }
 },
 "nbformat": 4,
 "nbformat_minor": 2
}
